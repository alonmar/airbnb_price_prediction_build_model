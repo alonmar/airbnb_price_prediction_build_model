{
 "cells": [
  {
   "cell_type": "code",
   "execution_count": 1,
   "metadata": {},
   "outputs": [],
   "source": [
    "# Data management\n",
    "import pandas as pd\n",
    "import numpy as np\n",
    "\n",
    "# Models\n",
    "from xgboost import XGBRegressor\n",
    "from sklearn.linear_model import LinearRegression, Lasso\n",
    "from sklearn.neural_network import MLPRegressor\n",
    "from sklearn.model_selection import train_test_split, GridSearchCV\n",
    "from sklearn.metrics import mean_squared_error\n",
    "\n",
    "# Visualitation\n",
    "import seaborn as sns\n",
    "import matplotlib.pyplot as plt\n",
    "\n",
    "# Save\n",
    "import joblib"
   ]
  },
  {
   "cell_type": "markdown",
   "metadata": {},
   "source": [
    "# The problem\n",
    "We are faced with the problem of estimating whether the current price for a room on Airbnb is \n",
    "\n",
    "over or under the market price, so we will analyze and select a model that helps us predict said price."
   ]
  },
  {
   "cell_type": "markdown",
   "metadata": {},
   "source": [
    "# Import data"
   ]
  },
  {
   "cell_type": "code",
   "execution_count": 2,
   "metadata": {},
   "outputs": [],
   "source": [
    "# Data to train\n",
    "train_data_raw = pd.read_csv(\"../data_raw/train.csv\")\n",
    "# Data to test\n",
    "test_data_raw = pd.read_csv(\"../data_raw/test.csv\")"
   ]
  },
  {
   "cell_type": "markdown",
   "metadata": {},
   "source": [
    "# EDA"
   ]
  },
  {
   "cell_type": "markdown",
   "metadata": {},
   "source": [
    "Now we will analyze the variables of our data\n"
   ]
  },
  {
   "cell_type": "code",
   "execution_count": 3,
   "metadata": {},
   "outputs": [
    {
     "data": {
      "text/html": [
       "<div>\n",
       "<style scoped>\n",
       "    .dataframe tbody tr th:only-of-type {\n",
       "        vertical-align: middle;\n",
       "    }\n",
       "\n",
       "    .dataframe tbody tr th {\n",
       "        vertical-align: top;\n",
       "    }\n",
       "\n",
       "    .dataframe thead th {\n",
       "        text-align: right;\n",
       "    }\n",
       "</style>\n",
       "<table border=\"1\" class=\"dataframe\">\n",
       "  <thead>\n",
       "    <tr style=\"text-align: right;\">\n",
       "      <th></th>\n",
       "      <th>id</th>\n",
       "      <th>log_price</th>\n",
       "      <th>property_type</th>\n",
       "      <th>room_type</th>\n",
       "      <th>amenities</th>\n",
       "      <th>accommodates</th>\n",
       "      <th>bathrooms</th>\n",
       "      <th>bed_type</th>\n",
       "      <th>cancellation_policy</th>\n",
       "      <th>cleaning_fee</th>\n",
       "      <th>...</th>\n",
       "      <th>latitude</th>\n",
       "      <th>longitude</th>\n",
       "      <th>name</th>\n",
       "      <th>neighbourhood</th>\n",
       "      <th>number_of_reviews</th>\n",
       "      <th>review_scores_rating</th>\n",
       "      <th>thumbnail_url</th>\n",
       "      <th>zipcode</th>\n",
       "      <th>bedrooms</th>\n",
       "      <th>beds</th>\n",
       "    </tr>\n",
       "  </thead>\n",
       "  <tbody>\n",
       "    <tr>\n",
       "      <th>0</th>\n",
       "      <td>6901257</td>\n",
       "      <td>5.010635</td>\n",
       "      <td>Apartment</td>\n",
       "      <td>Entire home/apt</td>\n",
       "      <td>{\"Wireless Internet\",\"Air conditioning\",Kitche...</td>\n",
       "      <td>3</td>\n",
       "      <td>1.0</td>\n",
       "      <td>Real Bed</td>\n",
       "      <td>strict</td>\n",
       "      <td>True</td>\n",
       "      <td>...</td>\n",
       "      <td>40.696524</td>\n",
       "      <td>-73.991617</td>\n",
       "      <td>Beautiful brownstone 1-bedroom</td>\n",
       "      <td>Brooklyn Heights</td>\n",
       "      <td>2</td>\n",
       "      <td>100.0</td>\n",
       "      <td>https://a0.muscache.com/im/pictures/6d7cbbf7-c...</td>\n",
       "      <td>11201</td>\n",
       "      <td>1.0</td>\n",
       "      <td>1.0</td>\n",
       "    </tr>\n",
       "    <tr>\n",
       "      <th>1</th>\n",
       "      <td>6304928</td>\n",
       "      <td>5.129899</td>\n",
       "      <td>Apartment</td>\n",
       "      <td>Entire home/apt</td>\n",
       "      <td>{\"Wireless Internet\",\"Air conditioning\",Kitche...</td>\n",
       "      <td>7</td>\n",
       "      <td>1.0</td>\n",
       "      <td>Real Bed</td>\n",
       "      <td>strict</td>\n",
       "      <td>True</td>\n",
       "      <td>...</td>\n",
       "      <td>40.766115</td>\n",
       "      <td>-73.989040</td>\n",
       "      <td>Superb 3BR Apt Located Near Times Square</td>\n",
       "      <td>Hell's Kitchen</td>\n",
       "      <td>6</td>\n",
       "      <td>93.0</td>\n",
       "      <td>https://a0.muscache.com/im/pictures/348a55fe-4...</td>\n",
       "      <td>10019</td>\n",
       "      <td>3.0</td>\n",
       "      <td>3.0</td>\n",
       "    </tr>\n",
       "    <tr>\n",
       "      <th>2</th>\n",
       "      <td>7919400</td>\n",
       "      <td>4.976734</td>\n",
       "      <td>Apartment</td>\n",
       "      <td>Entire home/apt</td>\n",
       "      <td>{TV,\"Cable TV\",\"Wireless Internet\",\"Air condit...</td>\n",
       "      <td>5</td>\n",
       "      <td>1.0</td>\n",
       "      <td>Real Bed</td>\n",
       "      <td>moderate</td>\n",
       "      <td>True</td>\n",
       "      <td>...</td>\n",
       "      <td>40.808110</td>\n",
       "      <td>-73.943756</td>\n",
       "      <td>The Garden Oasis</td>\n",
       "      <td>Harlem</td>\n",
       "      <td>10</td>\n",
       "      <td>92.0</td>\n",
       "      <td>https://a0.muscache.com/im/pictures/6fae5362-9...</td>\n",
       "      <td>10027</td>\n",
       "      <td>1.0</td>\n",
       "      <td>3.0</td>\n",
       "    </tr>\n",
       "    <tr>\n",
       "      <th>3</th>\n",
       "      <td>13418779</td>\n",
       "      <td>6.620073</td>\n",
       "      <td>House</td>\n",
       "      <td>Entire home/apt</td>\n",
       "      <td>{TV,\"Cable TV\",Internet,\"Wireless Internet\",Ki...</td>\n",
       "      <td>4</td>\n",
       "      <td>1.0</td>\n",
       "      <td>Real Bed</td>\n",
       "      <td>flexible</td>\n",
       "      <td>True</td>\n",
       "      <td>...</td>\n",
       "      <td>37.772004</td>\n",
       "      <td>-122.431619</td>\n",
       "      <td>Beautiful Flat in the Heart of SF!</td>\n",
       "      <td>Lower Haight</td>\n",
       "      <td>0</td>\n",
       "      <td>NaN</td>\n",
       "      <td>https://a0.muscache.com/im/pictures/72208dad-9...</td>\n",
       "      <td>94117.0</td>\n",
       "      <td>2.0</td>\n",
       "      <td>2.0</td>\n",
       "    </tr>\n",
       "    <tr>\n",
       "      <th>4</th>\n",
       "      <td>3808709</td>\n",
       "      <td>4.744932</td>\n",
       "      <td>Apartment</td>\n",
       "      <td>Entire home/apt</td>\n",
       "      <td>{TV,Internet,\"Wireless Internet\",\"Air conditio...</td>\n",
       "      <td>2</td>\n",
       "      <td>1.0</td>\n",
       "      <td>Real Bed</td>\n",
       "      <td>moderate</td>\n",
       "      <td>True</td>\n",
       "      <td>...</td>\n",
       "      <td>38.925627</td>\n",
       "      <td>-77.034596</td>\n",
       "      <td>Great studio in midtown DC</td>\n",
       "      <td>Columbia Heights</td>\n",
       "      <td>4</td>\n",
       "      <td>40.0</td>\n",
       "      <td>NaN</td>\n",
       "      <td>20009</td>\n",
       "      <td>0.0</td>\n",
       "      <td>1.0</td>\n",
       "    </tr>\n",
       "  </tbody>\n",
       "</table>\n",
       "<p>5 rows × 29 columns</p>\n",
       "</div>"
      ],
      "text/plain": [
       "         id  log_price property_type        room_type  \\\n",
       "0   6901257   5.010635     Apartment  Entire home/apt   \n",
       "1   6304928   5.129899     Apartment  Entire home/apt   \n",
       "2   7919400   4.976734     Apartment  Entire home/apt   \n",
       "3  13418779   6.620073         House  Entire home/apt   \n",
       "4   3808709   4.744932     Apartment  Entire home/apt   \n",
       "\n",
       "                                           amenities  accommodates  bathrooms  \\\n",
       "0  {\"Wireless Internet\",\"Air conditioning\",Kitche...             3        1.0   \n",
       "1  {\"Wireless Internet\",\"Air conditioning\",Kitche...             7        1.0   \n",
       "2  {TV,\"Cable TV\",\"Wireless Internet\",\"Air condit...             5        1.0   \n",
       "3  {TV,\"Cable TV\",Internet,\"Wireless Internet\",Ki...             4        1.0   \n",
       "4  {TV,Internet,\"Wireless Internet\",\"Air conditio...             2        1.0   \n",
       "\n",
       "   bed_type cancellation_policy  cleaning_fee  ...   latitude   longitude  \\\n",
       "0  Real Bed              strict          True  ...  40.696524  -73.991617   \n",
       "1  Real Bed              strict          True  ...  40.766115  -73.989040   \n",
       "2  Real Bed            moderate          True  ...  40.808110  -73.943756   \n",
       "3  Real Bed            flexible          True  ...  37.772004 -122.431619   \n",
       "4  Real Bed            moderate          True  ...  38.925627  -77.034596   \n",
       "\n",
       "                                       name     neighbourhood  \\\n",
       "0            Beautiful brownstone 1-bedroom  Brooklyn Heights   \n",
       "1  Superb 3BR Apt Located Near Times Square    Hell's Kitchen   \n",
       "2                          The Garden Oasis            Harlem   \n",
       "3        Beautiful Flat in the Heart of SF!      Lower Haight   \n",
       "4                Great studio in midtown DC  Columbia Heights   \n",
       "\n",
       "  number_of_reviews review_scores_rating  \\\n",
       "0                 2                100.0   \n",
       "1                 6                 93.0   \n",
       "2                10                 92.0   \n",
       "3                 0                  NaN   \n",
       "4                 4                 40.0   \n",
       "\n",
       "                                       thumbnail_url  zipcode bedrooms  beds  \n",
       "0  https://a0.muscache.com/im/pictures/6d7cbbf7-c...    11201      1.0   1.0  \n",
       "1  https://a0.muscache.com/im/pictures/348a55fe-4...    10019      3.0   3.0  \n",
       "2  https://a0.muscache.com/im/pictures/6fae5362-9...    10027      1.0   3.0  \n",
       "3  https://a0.muscache.com/im/pictures/72208dad-9...  94117.0      2.0   2.0  \n",
       "4                                                NaN    20009      0.0   1.0  \n",
       "\n",
       "[5 rows x 29 columns]"
      ]
     },
     "execution_count": 3,
     "metadata": {},
     "output_type": "execute_result"
    }
   ],
   "source": [
    "train_data_raw.head()"
   ]
  },
  {
   "cell_type": "code",
   "execution_count": 4,
   "metadata": {},
   "outputs": [
    {
     "name": "stdout",
     "output_type": "stream",
     "text": [
      "Number rows: 74111 Number columns: 29\n"
     ]
    }
   ],
   "source": [
    "train_data_raw.shape\n",
    "print(f\"Number rows: {train_data_raw.shape[0]} Number columns: {train_data_raw.shape[1]}\")"
   ]
  },
  {
   "cell_type": "markdown",
   "metadata": {},
   "source": [
    "Type variables"
   ]
  },
  {
   "cell_type": "code",
   "execution_count": 5,
   "metadata": {},
   "outputs": [
    {
     "data": {
      "text/plain": [
       "id                          int64\n",
       "log_price                 float64\n",
       "property_type              object\n",
       "room_type                  object\n",
       "amenities                  object\n",
       "accommodates                int64\n",
       "bathrooms                 float64\n",
       "bed_type                   object\n",
       "cancellation_policy        object\n",
       "cleaning_fee                 bool\n",
       "city                       object\n",
       "description                object\n",
       "first_review               object\n",
       "host_has_profile_pic       object\n",
       "host_identity_verified     object\n",
       "host_response_rate         object\n",
       "host_since                 object\n",
       "instant_bookable           object\n",
       "last_review                object\n",
       "latitude                  float64\n",
       "longitude                 float64\n",
       "name                       object\n",
       "neighbourhood              object\n",
       "number_of_reviews           int64\n",
       "review_scores_rating      float64\n",
       "thumbnail_url              object\n",
       "zipcode                    object\n",
       "bedrooms                  float64\n",
       "beds                      float64\n",
       "dtype: object"
      ]
     },
     "execution_count": 5,
     "metadata": {},
     "output_type": "execute_result"
    }
   ],
   "source": [
    "train_data_raw.dtypes"
   ]
  },
  {
   "cell_type": "code",
   "execution_count": 6,
   "metadata": {},
   "outputs": [
    {
     "data": {
      "text/html": [
       "<div>\n",
       "<style scoped>\n",
       "    .dataframe tbody tr th:only-of-type {\n",
       "        vertical-align: middle;\n",
       "    }\n",
       "\n",
       "    .dataframe tbody tr th {\n",
       "        vertical-align: top;\n",
       "    }\n",
       "\n",
       "    .dataframe thead th {\n",
       "        text-align: right;\n",
       "    }\n",
       "</style>\n",
       "<table border=\"1\" class=\"dataframe\">\n",
       "  <thead>\n",
       "    <tr style=\"text-align: right;\">\n",
       "      <th></th>\n",
       "      <th>id</th>\n",
       "      <th>log_price</th>\n",
       "      <th>accommodates</th>\n",
       "      <th>bathrooms</th>\n",
       "      <th>latitude</th>\n",
       "      <th>longitude</th>\n",
       "      <th>number_of_reviews</th>\n",
       "      <th>review_scores_rating</th>\n",
       "      <th>bedrooms</th>\n",
       "      <th>beds</th>\n",
       "    </tr>\n",
       "  </thead>\n",
       "  <tbody>\n",
       "    <tr>\n",
       "      <th>count</th>\n",
       "      <td>7.411100e+04</td>\n",
       "      <td>74111.000000</td>\n",
       "      <td>74111.000000</td>\n",
       "      <td>73911.000000</td>\n",
       "      <td>74111.000000</td>\n",
       "      <td>74111.000000</td>\n",
       "      <td>74111.000000</td>\n",
       "      <td>57389.000000</td>\n",
       "      <td>74020.000000</td>\n",
       "      <td>73980.000000</td>\n",
       "    </tr>\n",
       "    <tr>\n",
       "      <th>mean</th>\n",
       "      <td>1.126662e+07</td>\n",
       "      <td>4.782069</td>\n",
       "      <td>3.155146</td>\n",
       "      <td>1.235263</td>\n",
       "      <td>38.445958</td>\n",
       "      <td>-92.397525</td>\n",
       "      <td>20.900568</td>\n",
       "      <td>94.067365</td>\n",
       "      <td>1.265793</td>\n",
       "      <td>1.710868</td>\n",
       "    </tr>\n",
       "    <tr>\n",
       "      <th>std</th>\n",
       "      <td>6.081735e+06</td>\n",
       "      <td>0.717394</td>\n",
       "      <td>2.153589</td>\n",
       "      <td>0.582044</td>\n",
       "      <td>3.080167</td>\n",
       "      <td>21.705322</td>\n",
       "      <td>37.828641</td>\n",
       "      <td>7.836556</td>\n",
       "      <td>0.852143</td>\n",
       "      <td>1.254142</td>\n",
       "    </tr>\n",
       "    <tr>\n",
       "      <th>min</th>\n",
       "      <td>3.440000e+02</td>\n",
       "      <td>0.000000</td>\n",
       "      <td>1.000000</td>\n",
       "      <td>0.000000</td>\n",
       "      <td>33.338905</td>\n",
       "      <td>-122.511500</td>\n",
       "      <td>0.000000</td>\n",
       "      <td>20.000000</td>\n",
       "      <td>0.000000</td>\n",
       "      <td>0.000000</td>\n",
       "    </tr>\n",
       "    <tr>\n",
       "      <th>25%</th>\n",
       "      <td>6.261964e+06</td>\n",
       "      <td>4.317488</td>\n",
       "      <td>2.000000</td>\n",
       "      <td>1.000000</td>\n",
       "      <td>34.127908</td>\n",
       "      <td>-118.342374</td>\n",
       "      <td>1.000000</td>\n",
       "      <td>92.000000</td>\n",
       "      <td>1.000000</td>\n",
       "      <td>1.000000</td>\n",
       "    </tr>\n",
       "    <tr>\n",
       "      <th>50%</th>\n",
       "      <td>1.225415e+07</td>\n",
       "      <td>4.709530</td>\n",
       "      <td>2.000000</td>\n",
       "      <td>1.000000</td>\n",
       "      <td>40.662138</td>\n",
       "      <td>-76.996965</td>\n",
       "      <td>6.000000</td>\n",
       "      <td>96.000000</td>\n",
       "      <td>1.000000</td>\n",
       "      <td>1.000000</td>\n",
       "    </tr>\n",
       "    <tr>\n",
       "      <th>75%</th>\n",
       "      <td>1.640226e+07</td>\n",
       "      <td>5.220356</td>\n",
       "      <td>4.000000</td>\n",
       "      <td>1.000000</td>\n",
       "      <td>40.746096</td>\n",
       "      <td>-73.954660</td>\n",
       "      <td>23.000000</td>\n",
       "      <td>100.000000</td>\n",
       "      <td>1.000000</td>\n",
       "      <td>2.000000</td>\n",
       "    </tr>\n",
       "    <tr>\n",
       "      <th>max</th>\n",
       "      <td>2.123090e+07</td>\n",
       "      <td>7.600402</td>\n",
       "      <td>16.000000</td>\n",
       "      <td>8.000000</td>\n",
       "      <td>42.390437</td>\n",
       "      <td>-70.985047</td>\n",
       "      <td>605.000000</td>\n",
       "      <td>100.000000</td>\n",
       "      <td>10.000000</td>\n",
       "      <td>18.000000</td>\n",
       "    </tr>\n",
       "  </tbody>\n",
       "</table>\n",
       "</div>"
      ],
      "text/plain": [
       "                 id     log_price  accommodates     bathrooms      latitude  \\\n",
       "count  7.411100e+04  74111.000000  74111.000000  73911.000000  74111.000000   \n",
       "mean   1.126662e+07      4.782069      3.155146      1.235263     38.445958   \n",
       "std    6.081735e+06      0.717394      2.153589      0.582044      3.080167   \n",
       "min    3.440000e+02      0.000000      1.000000      0.000000     33.338905   \n",
       "25%    6.261964e+06      4.317488      2.000000      1.000000     34.127908   \n",
       "50%    1.225415e+07      4.709530      2.000000      1.000000     40.662138   \n",
       "75%    1.640226e+07      5.220356      4.000000      1.000000     40.746096   \n",
       "max    2.123090e+07      7.600402     16.000000      8.000000     42.390437   \n",
       "\n",
       "          longitude  number_of_reviews  review_scores_rating      bedrooms  \\\n",
       "count  74111.000000       74111.000000          57389.000000  74020.000000   \n",
       "mean     -92.397525          20.900568             94.067365      1.265793   \n",
       "std       21.705322          37.828641              7.836556      0.852143   \n",
       "min     -122.511500           0.000000             20.000000      0.000000   \n",
       "25%     -118.342374           1.000000             92.000000      1.000000   \n",
       "50%      -76.996965           6.000000             96.000000      1.000000   \n",
       "75%      -73.954660          23.000000            100.000000      1.000000   \n",
       "max      -70.985047         605.000000            100.000000     10.000000   \n",
       "\n",
       "               beds  \n",
       "count  73980.000000  \n",
       "mean       1.710868  \n",
       "std        1.254142  \n",
       "min        0.000000  \n",
       "25%        1.000000  \n",
       "50%        1.000000  \n",
       "75%        2.000000  \n",
       "max       18.000000  "
      ]
     },
     "execution_count": 6,
     "metadata": {},
     "output_type": "execute_result"
    }
   ],
   "source": [
    "train_data_raw.describe()"
   ]
  },
  {
   "cell_type": "code",
   "execution_count": 7,
   "metadata": {},
   "outputs": [
    {
     "data": {
      "text/html": [
       "<div>\n",
       "<style scoped>\n",
       "    .dataframe tbody tr th:only-of-type {\n",
       "        vertical-align: middle;\n",
       "    }\n",
       "\n",
       "    .dataframe tbody tr th {\n",
       "        vertical-align: top;\n",
       "    }\n",
       "\n",
       "    .dataframe thead th {\n",
       "        text-align: right;\n",
       "    }\n",
       "</style>\n",
       "<table border=\"1\" class=\"dataframe\">\n",
       "  <thead>\n",
       "    <tr style=\"text-align: right;\">\n",
       "      <th></th>\n",
       "      <th>property_type</th>\n",
       "      <th>room_type</th>\n",
       "      <th>amenities</th>\n",
       "      <th>bed_type</th>\n",
       "      <th>cancellation_policy</th>\n",
       "      <th>cleaning_fee</th>\n",
       "      <th>city</th>\n",
       "      <th>description</th>\n",
       "      <th>first_review</th>\n",
       "      <th>host_has_profile_pic</th>\n",
       "      <th>host_identity_verified</th>\n",
       "      <th>host_response_rate</th>\n",
       "      <th>host_since</th>\n",
       "      <th>instant_bookable</th>\n",
       "      <th>last_review</th>\n",
       "      <th>name</th>\n",
       "      <th>neighbourhood</th>\n",
       "      <th>thumbnail_url</th>\n",
       "      <th>zipcode</th>\n",
       "    </tr>\n",
       "  </thead>\n",
       "  <tbody>\n",
       "    <tr>\n",
       "      <th>count</th>\n",
       "      <td>74111</td>\n",
       "      <td>74111</td>\n",
       "      <td>74111</td>\n",
       "      <td>74111</td>\n",
       "      <td>74111</td>\n",
       "      <td>74111</td>\n",
       "      <td>74111</td>\n",
       "      <td>74111</td>\n",
       "      <td>58247</td>\n",
       "      <td>73923</td>\n",
       "      <td>73923</td>\n",
       "      <td>55812</td>\n",
       "      <td>73923</td>\n",
       "      <td>74111</td>\n",
       "      <td>58284</td>\n",
       "      <td>74111</td>\n",
       "      <td>67239</td>\n",
       "      <td>65895</td>\n",
       "      <td>73145</td>\n",
       "    </tr>\n",
       "    <tr>\n",
       "      <th>unique</th>\n",
       "      <td>35</td>\n",
       "      <td>3</td>\n",
       "      <td>67122</td>\n",
       "      <td>5</td>\n",
       "      <td>5</td>\n",
       "      <td>2</td>\n",
       "      <td>6</td>\n",
       "      <td>73479</td>\n",
       "      <td>2554</td>\n",
       "      <td>2</td>\n",
       "      <td>2</td>\n",
       "      <td>80</td>\n",
       "      <td>3087</td>\n",
       "      <td>2</td>\n",
       "      <td>1371</td>\n",
       "      <td>73359</td>\n",
       "      <td>619</td>\n",
       "      <td>65883</td>\n",
       "      <td>769</td>\n",
       "    </tr>\n",
       "    <tr>\n",
       "      <th>top</th>\n",
       "      <td>Apartment</td>\n",
       "      <td>Entire home/apt</td>\n",
       "      <td>{}</td>\n",
       "      <td>Real Bed</td>\n",
       "      <td>strict</td>\n",
       "      <td>True</td>\n",
       "      <td>NYC</td>\n",
       "      <td>Hello, I've been running guest house for Korea...</td>\n",
       "      <td>2017-01-01</td>\n",
       "      <td>t</td>\n",
       "      <td>t</td>\n",
       "      <td>100%</td>\n",
       "      <td>2015-03-30</td>\n",
       "      <td>f</td>\n",
       "      <td>2017-04-30</td>\n",
       "      <td>Bunk bed in the Treat Street Clubhouse</td>\n",
       "      <td>Williamsburg</td>\n",
       "      <td>https://a0.muscache.com/im/pictures/70087089/b...</td>\n",
       "      <td>11211.0</td>\n",
       "    </tr>\n",
       "    <tr>\n",
       "      <th>freq</th>\n",
       "      <td>49003</td>\n",
       "      <td>41310</td>\n",
       "      <td>586</td>\n",
       "      <td>72028</td>\n",
       "      <td>32374</td>\n",
       "      <td>54403</td>\n",
       "      <td>32349</td>\n",
       "      <td>8</td>\n",
       "      <td>293</td>\n",
       "      <td>73697</td>\n",
       "      <td>49748</td>\n",
       "      <td>43254</td>\n",
       "      <td>246</td>\n",
       "      <td>54660</td>\n",
       "      <td>1344</td>\n",
       "      <td>8</td>\n",
       "      <td>2862</td>\n",
       "      <td>3</td>\n",
       "      <td>1368</td>\n",
       "    </tr>\n",
       "  </tbody>\n",
       "</table>\n",
       "</div>"
      ],
      "text/plain": [
       "       property_type        room_type amenities  bed_type cancellation_policy  \\\n",
       "count          74111            74111     74111     74111               74111   \n",
       "unique            35                3     67122         5                   5   \n",
       "top        Apartment  Entire home/apt        {}  Real Bed              strict   \n",
       "freq           49003            41310       586     72028               32374   \n",
       "\n",
       "       cleaning_fee   city                                        description  \\\n",
       "count         74111  74111                                              74111   \n",
       "unique            2      6                                              73479   \n",
       "top            True    NYC  Hello, I've been running guest house for Korea...   \n",
       "freq          54403  32349                                                  8   \n",
       "\n",
       "       first_review host_has_profile_pic host_identity_verified  \\\n",
       "count         58247                73923                  73923   \n",
       "unique         2554                    2                      2   \n",
       "top      2017-01-01                    t                      t   \n",
       "freq            293                73697                  49748   \n",
       "\n",
       "       host_response_rate  host_since instant_bookable last_review  \\\n",
       "count               55812       73923            74111       58284   \n",
       "unique                 80        3087                2        1371   \n",
       "top                  100%  2015-03-30                f  2017-04-30   \n",
       "freq                43254         246            54660        1344   \n",
       "\n",
       "                                          name neighbourhood  \\\n",
       "count                                    74111         67239   \n",
       "unique                                   73359           619   \n",
       "top     Bunk bed in the Treat Street Clubhouse  Williamsburg   \n",
       "freq                                         8          2862   \n",
       "\n",
       "                                            thumbnail_url  zipcode  \n",
       "count                                               65895    73145  \n",
       "unique                                              65883      769  \n",
       "top     https://a0.muscache.com/im/pictures/70087089/b...  11211.0  \n",
       "freq                                                    3     1368  "
      ]
     },
     "execution_count": 7,
     "metadata": {},
     "output_type": "execute_result"
    }
   ],
   "source": [
    "train_data_raw.describe(include=[object, bool])"
   ]
  },
  {
   "cell_type": "code",
   "execution_count": 8,
   "metadata": {},
   "outputs": [
    {
     "data": {
      "text/plain": [
       "id                            0\n",
       "log_price                     0\n",
       "property_type                 0\n",
       "room_type                     0\n",
       "amenities                     0\n",
       "accommodates                  0\n",
       "bathrooms                   200\n",
       "bed_type                      0\n",
       "cancellation_policy           0\n",
       "cleaning_fee                  0\n",
       "city                          0\n",
       "description                   0\n",
       "first_review              15864\n",
       "host_has_profile_pic        188\n",
       "host_identity_verified      188\n",
       "host_response_rate        18299\n",
       "host_since                  188\n",
       "instant_bookable              0\n",
       "last_review               15827\n",
       "latitude                      0\n",
       "longitude                     0\n",
       "name                          0\n",
       "neighbourhood              6872\n",
       "number_of_reviews             0\n",
       "review_scores_rating      16722\n",
       "thumbnail_url              8216\n",
       "zipcode                     966\n",
       "bedrooms                     91\n",
       "beds                        131\n",
       "dtype: int64"
      ]
     },
     "execution_count": 8,
     "metadata": {},
     "output_type": "execute_result"
    }
   ],
   "source": [
    "# Number of NAs by column\n",
    "train_data_raw.isna().sum()"
   ]
  },
  {
   "cell_type": "code",
   "execution_count": 9,
   "metadata": {},
   "outputs": [
    {
     "data": {
      "text/plain": [
       "Text(0.5, 1.0, 'NAs ratio per Column')"
      ]
     },
     "execution_count": 9,
     "metadata": {},
     "output_type": "execute_result"
    },
    {
     "data": {
      "image/png": "[encoded data removed]",
      "text/plain": [
       "<Figure size 648x648 with 1 Axes>"
      ]
     },
     "metadata": {
      "needs_background": "light"
     },
     "output_type": "display_data"
    }
   ],
   "source": [
    "# Create a data frame\n",
    "df = pd.DataFrame ({\n",
    "        'column':  train_data_raw.isna().sum().index,\n",
    "        'NAs': (train_data_raw.isna().sum()/train_data_raw.shape[0])\n",
    "})\n",
    "\n",
    "# Sort the table\n",
    "df = df.sort_values(by=['NAs'])\n",
    "\n",
    "# Initialize a Figure and an Axes\n",
    "fig, ax = plt.subplots()\n",
    "\n",
    "# Fig size\n",
    "fig.set_size_inches(9,9)\n",
    "\n",
    "# Create horizontal bars\n",
    "ax.barh(y=df.column, width=df.NAs)\n",
    "\n",
    "# Add title\n",
    "ax.set_title('NAs ratio per Column')"
   ]
  },
  {
   "cell_type": "markdown",
   "metadata": {},
   "source": [
    "# Clean Data"
   ]
  },
  {
   "cell_type": "markdown",
   "metadata": {},
   "source": [
    "## Select and clean variables"
   ]
  },
  {
   "cell_type": "markdown",
   "metadata": {},
   "source": [
    "I will build a class 'CleanData' that allows me to have control of the way in which i will clean each variable.\n",
    "\n",
    "In 'normal' condition (not in a test proyect) each method would live in a separate file.\n",
    "\n",
    "The main advantage of this is that if you want to add a new cleaning feature later on, the flow is not hindered."
   ]
  },
  {
   "cell_type": "code",
   "execution_count": 10,
   "metadata": {},
   "outputs": [],
   "source": [
    "class CleanData:\n",
    "  def __init__(self, X):\n",
    "    self.X = X\n",
    "  \n",
    "  # Drop \n",
    "  def drop_columns(self, drop_columns=None):\n",
    "    \"\"\"Drop columns in the list\"\"\"\n",
    "    self.X = self.X.drop(columns=drop_columns)\n",
    "\n",
    "  #def drop_nas(self, columns_drop_nas=None):\n",
    "  #  \"\"\"Drop columns in the list with Nas\"\"\"\n",
    "  #  self.X = self.X.dropna(subset=columns_drop_nas)\n",
    "\n",
    "  # Fill\n",
    "  def fill_na_mean(self, columns_fill_na_mean):\n",
    "    \"\"\"Fill NAs with mean by columns in the list\"\"\"\n",
    "    for column in columns_fill_na_mean:\n",
    "      mean_column = self.X[column].median()\n",
    "      self.X[column] = self.X[column].fillna(mean_column)\n",
    "\n",
    "  def fill_na_median(self, columns_fill_na_median):\n",
    "    \"\"\"Fill NAs with median by columns in the list\"\"\"\n",
    "    for column in columns_fill_na_median:\n",
    "      median_column = self.X[column].median()\n",
    "      self.X[column] = self.X[column].fillna(median_column)\n",
    "\n",
    "  def fill_na(self, columns_fill_na):\n",
    "    \"\"\"Fill NAs with specific value by columns in the list\"\"\"\n",
    "    for column, fill in columns_fill_na.items():\n",
    "      self.X[column] = self.X[column].fillna(fill)\n",
    "\n",
    "  # Replace\n",
    "  def replace_str(self, columns_replace_values):\n",
    "    \"\"\"Replace values with specific string by columns in the list\"\"\"\n",
    "    for column, kwargs in columns_replace_values.items():\n",
    "      self.X[column] = self.X[column].str.replace(**kwargs)\n",
    "\n",
    "  # Convert\n",
    "  def to_boolean(self, columns_to_boolean):\n",
    "    \"\"\"Convert values to boolean that contains specific \n",
    "       conditional by columns in the list\"\"\"\n",
    "    for column, true_value in columns_to_boolean.items():\n",
    "      self.X[column] = (self.X[column] == true_value)\n",
    "\n",
    "  def change_type(self, columns_change_type):\n",
    "    \"\"\"Convert values to specific by columns in the list\"\"\"\n",
    "    for column, kwargs in columns_change_type.items():\n",
    "      self.X[column]  = self.X[column].astype(**kwargs)\n",
    "\n",
    "  # One hot\n",
    "  def one_hot_coding(self):\n",
    "    \"\"\"Conver columns type 'object' to one hot coding, then\n",
    "       delete leaving only the One hot coding\"\"\"\n",
    "    dummies_object = None\n",
    "    columns_type_object = []\n",
    "\n",
    "    for i, column_type in enumerate([str(d) for d in self.X.dtypes]):\n",
    "      if column_type == \"object\":\n",
    "        column_name = self.X.columns[i]\n",
    "        columns_type_object.append(column_name)\n",
    "\n",
    "        dummies = pd.get_dummies(self.X[column_name], prefix=column_name)\n",
    "\n",
    "        if dummies_object is None:\n",
    "          dummies_object = dummies\n",
    "        else:\n",
    "          dummies_object = pd.concat([dummies_object, dummies], axis=1)\n",
    "\n",
    "    self.X = self.X.drop(columns_type_object, axis='columns')\n",
    "    self.X = pd.concat([self.X, dummies_object], axis=1)\n",
    "\n",
    "\n",
    "  def clean(self, \n",
    "            columns_drop=None, \n",
    "            #columns_drop_nas=None,\n",
    "            columns_fill_na_median=None, \n",
    "            columns_fill_na_mean=None,\n",
    "            columns_fill_na=None,\n",
    "            columns_replace_str_values=None,\n",
    "            columns_to_boolean=None,\n",
    "            columns_change_type=None):\n",
    "            \n",
    "    self.drop_columns(columns_drop)\n",
    "    #self.drop_nas(columns_drop_nas)\n",
    "    self.fill_na_median(columns_fill_na_median)\n",
    "    self.fill_na_mean(columns_fill_na_mean)\n",
    "    self.fill_na(columns_fill_na)\n",
    "    self.replace_str(columns_replace_str_values)\n",
    "    self.to_boolean(columns_to_boolean)\n",
    "    self.change_type(columns_change_type)\n",
    "    self.one_hot_coding()"
   ]
  },
  {
   "cell_type": "code",
   "execution_count": 11,
   "metadata": {},
   "outputs": [],
   "source": [
    "columns_drop = ['id', 'description', 'first_review', \n",
    "                'host_has_profile_pic', 'host_since', 'last_review', \n",
    "                'name', 'neighbourhood','amenities', 'thumbnail_url',\n",
    "                'latitude','longitude', 'zipcode']\n",
    "\n",
    "# why delete these columns?\n",
    "# 'id', 'host_has_profile_pic', 'thumbnail_url', 'name' are irreleavnet\n",
    "# 'description' they have 73479 unique values\n",
    "# 'first_review', 'host_since', 'last_review'  are time series features for this project we will omit\n",
    "# 'neighbourhood', 'latitude', 'longitude', 'zipcode' for this proyect ovoid location especific features\n",
    "# for 'amenities' in other time we can separete and count how many amenities have by house\n"
   ]
  },
  {
   "cell_type": "code",
   "execution_count": 12,
   "metadata": {},
   "outputs": [],
   "source": [
    "\n",
    "columns_fill_na_median = ['bedrooms', 'bathrooms', 'beds']\n",
    "# Why?\n",
    "# I think almost have one bedrooms, one bathrooms and one bed \n",
    "# for the 3 vars one is the median (and thats is a integer)\n",
    "\n",
    "columns_fill_na_mean = ['review_scores_rating']\n",
    "# Why?\n",
    "# The mean is to close to the median and is too close to the 3 quartile,\n",
    "# i have no problem with a bias \n",
    "\n",
    "columns_fill_na = {'host_identity_verified': 't',\n",
    "                   'host_response_rate': '0',\n",
    "                   }\n",
    "# Why?\n",
    "# For 'host_identity_verified' only the 0.253% is NA and the \n",
    "# most popular is 't'\n",
    "# For 'host_response_rate' i am assuming that by not having a \n",
    "# response rate then it will be zero\n"
   ]
  },
  {
   "cell_type": "code",
   "execution_count": 13,
   "metadata": {},
   "outputs": [],
   "source": [
    "\n",
    "columns_replace_str_values = {'host_response_rate': {'pat':'%',\n",
    "                                                     'repl':''}\n",
    "                              }\n",
    "# Why?\n",
    "# we remove the percentage character so that we can later convert to integer \n"
   ]
  },
  {
   "cell_type": "code",
   "execution_count": 14,
   "metadata": {},
   "outputs": [],
   "source": [
    "\n",
    "columns_to_boolean = {'host_identity_verified': 't',\n",
    "                      'instant_bookable': 't'\n",
    "                      }\n",
    "                    \n",
    "# Why?\n",
    "# If is equal to 't' convert to True if not False\n",
    "\n",
    "columns_change_type = { 'host_response_rate': {'dtype':int}}\n",
    "\n",
    "# Why?\n",
    "# Now 'host_response_rate' change to integer\n"
   ]
  },
  {
   "cell_type": "code",
   "execution_count": 15,
   "metadata": {},
   "outputs": [],
   "source": [
    "X_clean = CleanData(train_data_raw)\n",
    "X_clean.clean(columns_drop=columns_drop,\n",
    "              #columns_drop_nas=columns_drop_nas,\n",
    "              columns_fill_na_median=columns_fill_na_median, \n",
    "              columns_fill_na_mean=columns_fill_na_mean,\n",
    "              columns_fill_na=columns_fill_na,\n",
    "              columns_replace_str_values=columns_replace_str_values,\n",
    "              columns_to_boolean=columns_to_boolean,\n",
    "              columns_change_type=columns_change_type)"
   ]
  },
  {
   "cell_type": "markdown",
   "metadata": {},
   "source": [
    "Now the data looks like"
   ]
  },
  {
   "cell_type": "code",
   "execution_count": 16,
   "metadata": {},
   "outputs": [
    {
     "data": {
      "text/plain": [
       "Index(['log_price', 'accommodates', 'bathrooms', 'cleaning_fee',\n",
       "       'host_identity_verified', 'host_response_rate', 'instant_bookable',\n",
       "       'number_of_reviews', 'review_scores_rating', 'bedrooms', 'beds',\n",
       "       'property_type_Apartment', 'property_type_Bed & Breakfast',\n",
       "       'property_type_Boat', 'property_type_Boutique hotel',\n",
       "       'property_type_Bungalow', 'property_type_Cabin',\n",
       "       'property_type_Camper/RV', 'property_type_Casa particular',\n",
       "       'property_type_Castle', 'property_type_Cave', 'property_type_Chalet',\n",
       "       'property_type_Condominium', 'property_type_Dorm',\n",
       "       'property_type_Earth House', 'property_type_Guest suite',\n",
       "       'property_type_Guesthouse', 'property_type_Hostel',\n",
       "       'property_type_House', 'property_type_Hut', 'property_type_In-law',\n",
       "       'property_type_Island', 'property_type_Lighthouse',\n",
       "       'property_type_Loft', 'property_type_Other',\n",
       "       'property_type_Parking Space', 'property_type_Serviced apartment',\n",
       "       'property_type_Tent', 'property_type_Timeshare', 'property_type_Tipi',\n",
       "       'property_type_Townhouse', 'property_type_Train',\n",
       "       'property_type_Treehouse', 'property_type_Vacation home',\n",
       "       'property_type_Villa', 'property_type_Yurt',\n",
       "       'room_type_Entire home/apt', 'room_type_Private room',\n",
       "       'room_type_Shared room', 'bed_type_Airbed', 'bed_type_Couch',\n",
       "       'bed_type_Futon', 'bed_type_Pull-out Sofa', 'bed_type_Real Bed',\n",
       "       'cancellation_policy_flexible', 'cancellation_policy_moderate',\n",
       "       'cancellation_policy_strict', 'cancellation_policy_super_strict_30',\n",
       "       'cancellation_policy_super_strict_60', 'city_Boston', 'city_Chicago',\n",
       "       'city_DC', 'city_LA', 'city_NYC', 'city_SF'],\n",
       "      dtype='object')"
      ]
     },
     "execution_count": 16,
     "metadata": {},
     "output_type": "execute_result"
    }
   ],
   "source": [
    "X_clean.X.columns"
   ]
  },
  {
   "cell_type": "code",
   "execution_count": 17,
   "metadata": {},
   "outputs": [
    {
     "data": {
      "text/plain": [
       "log_price                 float64\n",
       "accommodates                int64\n",
       "bathrooms                 float64\n",
       "cleaning_fee                 bool\n",
       "host_identity_verified       bool\n",
       "                           ...   \n",
       "city_Chicago                uint8\n",
       "city_DC                     uint8\n",
       "city_LA                     uint8\n",
       "city_NYC                    uint8\n",
       "city_SF                     uint8\n",
       "Length: 65, dtype: object"
      ]
     },
     "execution_count": 17,
     "metadata": {},
     "output_type": "execute_result"
    }
   ],
   "source": [
    "X_clean.X.dtypes"
   ]
  },
  {
   "cell_type": "code",
   "execution_count": 18,
   "metadata": {},
   "outputs": [
    {
     "name": "stdout",
     "output_type": "stream",
     "text": [
      "Number of features whith NAs 0\n"
     ]
    }
   ],
   "source": [
    "#Not more NAs\n",
    "print( f'Number of features whith NAs {sum(X_clean.X.isna().sum() > 0)}')"
   ]
  },
  {
   "cell_type": "markdown",
   "metadata": {},
   "source": [
    "## Last variable selection"
   ]
  },
  {
   "cell_type": "markdown",
   "metadata": {},
   "source": [
    "Once our data has been transformed, it only remains to analyze which variables are relevant for our dependent variable 'log_price'"
   ]
  },
  {
   "cell_type": "code",
   "execution_count": 19,
   "metadata": {},
   "outputs": [
    {
     "data": {
      "text/plain": [
       "<AxesSubplot:>"
      ]
     },
     "execution_count": 19,
     "metadata": {},
     "output_type": "execute_result"
    },
    {
     "data": {
      "image/png": "[encoded data removed]",
      "text/plain": [
       "<Figure size 1080x1080 with 2 Axes>"
      ]
     },
     "metadata": {
      "needs_background": "light"
     },
     "output_type": "display_data"
    }
   ],
   "source": [
    "# Compute the correlation matrix\n",
    "corr = X_clean.X.corr()\n",
    "mask = np.triu(np.ones_like(corr, dtype=bool))\n",
    "\n",
    "# Set up the matplotlib figure\n",
    "f, ax = plt.subplots(figsize=(15, 15))\n",
    "\n",
    "# Generate a custom diverging colormap\n",
    "cmap = sns.diverging_palette(230, 20, as_cmap=True)\n",
    "\n",
    "# Draw the heatmap with the mask and correct aspect ratio\n",
    "sns.heatmap(corr, mask=mask, cmap=cmap, vmax=.3, center=0,\n",
    "            square=True, linewidths=.5, cbar_kws={\"shrink\": .5})"
   ]
  },
  {
   "cell_type": "code",
   "execution_count": 20,
   "metadata": {},
   "outputs": [
    {
     "data": {
      "text/plain": [
       "log_price                 1.000000\n",
       "accommodates              0.567574\n",
       "bathrooms                 0.355174\n",
       "cleaning_fee              0.111191\n",
       "host_identity_verified    0.024014\n",
       "                            ...   \n",
       "city_Chicago             -0.051902\n",
       "city_DC                   0.082282\n",
       "city_LA                  -0.056585\n",
       "city_NYC                 -0.076958\n",
       "city_SF                   0.166738\n",
       "Name: log_price, Length: 65, dtype: float64"
      ]
     },
     "execution_count": 20,
     "metadata": {},
     "output_type": "execute_result"
    }
   ],
   "source": [
    "corr['log_price']"
   ]
  },
  {
   "cell_type": "markdown",
   "metadata": {},
   "source": [
    "Now we will only find those variables that have a positive correlation above 0.5 and and correlation below -0.5\n",
    "compared with 'log_price'"
   ]
  },
  {
   "cell_type": "code",
   "execution_count": 21,
   "metadata": {},
   "outputs": [
    {
     "data": {
      "text/plain": [
       "log_price                       1.000000\n",
       "accommodates                    0.567574\n",
       "bathrooms                       0.355174\n",
       "cleaning_fee                    0.111191\n",
       "review_scores_rating            0.084180\n",
       "bedrooms                        0.473028\n",
       "beds                            0.441953\n",
       "property_type_Condominium       0.065726\n",
       "property_type_Dorm             -0.063270\n",
       "room_type_Entire home/apt       0.602500\n",
       "room_type_Private room         -0.531648\n",
       "room_type_Shared room          -0.222487\n",
       "bed_type_Airbed                -0.050427\n",
       "bed_type_Futon                 -0.064557\n",
       "bed_type_Real Bed               0.099230\n",
       "cancellation_policy_flexible   -0.095866\n",
       "cancellation_policy_moderate   -0.050016\n",
       "cancellation_policy_strict      0.128814\n",
       "city_Chicago                   -0.051902\n",
       "city_DC                         0.082282\n",
       "city_LA                        -0.056585\n",
       "city_NYC                       -0.076958\n",
       "city_SF                         0.166738\n",
       "Name: log_price, dtype: float64"
      ]
     },
     "execution_count": 21,
     "metadata": {},
     "output_type": "execute_result"
    }
   ],
   "source": [
    "vars_relevant = corr['log_price'][((corr['log_price'] >= .05) | (corr['log_price'] <=  -.05))]\n",
    "vars_relevant"
   ]
  },
  {
   "cell_type": "markdown",
   "metadata": {},
   "source": [
    "# Model"
   ]
  },
  {
   "cell_type": "code",
   "execution_count": 22,
   "metadata": {},
   "outputs": [],
   "source": [
    "# All relevants variables except 'log_price'\n",
    "X = X_clean.X[list(vars_relevant.index.values)[1:] ]\n",
    "# Only our variable object (log_price)\n",
    "y = X_clean.X.loc[:, 'log_price']"
   ]
  },
  {
   "cell_type": "code",
   "execution_count": 23,
   "metadata": {},
   "outputs": [
    {
     "data": {
      "text/html": [
       "<div>\n",
       "<style scoped>\n",
       "    .dataframe tbody tr th:only-of-type {\n",
       "        vertical-align: middle;\n",
       "    }\n",
       "\n",
       "    .dataframe tbody tr th {\n",
       "        vertical-align: top;\n",
       "    }\n",
       "\n",
       "    .dataframe thead th {\n",
       "        text-align: right;\n",
       "    }\n",
       "</style>\n",
       "<table border=\"1\" class=\"dataframe\">\n",
       "  <thead>\n",
       "    <tr style=\"text-align: right;\">\n",
       "      <th></th>\n",
       "      <th>accommodates</th>\n",
       "      <th>bathrooms</th>\n",
       "      <th>cleaning_fee</th>\n",
       "      <th>review_scores_rating</th>\n",
       "      <th>bedrooms</th>\n",
       "      <th>beds</th>\n",
       "      <th>property_type_Condominium</th>\n",
       "      <th>property_type_Dorm</th>\n",
       "      <th>room_type_Entire home/apt</th>\n",
       "      <th>room_type_Private room</th>\n",
       "      <th>...</th>\n",
       "      <th>bed_type_Futon</th>\n",
       "      <th>bed_type_Real Bed</th>\n",
       "      <th>cancellation_policy_flexible</th>\n",
       "      <th>cancellation_policy_moderate</th>\n",
       "      <th>cancellation_policy_strict</th>\n",
       "      <th>city_Chicago</th>\n",
       "      <th>city_DC</th>\n",
       "      <th>city_LA</th>\n",
       "      <th>city_NYC</th>\n",
       "      <th>city_SF</th>\n",
       "    </tr>\n",
       "  </thead>\n",
       "  <tbody>\n",
       "    <tr>\n",
       "      <th>0</th>\n",
       "      <td>3</td>\n",
       "      <td>1.0</td>\n",
       "      <td>True</td>\n",
       "      <td>100.0</td>\n",
       "      <td>1.0</td>\n",
       "      <td>1.0</td>\n",
       "      <td>0</td>\n",
       "      <td>0</td>\n",
       "      <td>1</td>\n",
       "      <td>0</td>\n",
       "      <td>...</td>\n",
       "      <td>0</td>\n",
       "      <td>1</td>\n",
       "      <td>0</td>\n",
       "      <td>0</td>\n",
       "      <td>1</td>\n",
       "      <td>0</td>\n",
       "      <td>0</td>\n",
       "      <td>0</td>\n",
       "      <td>1</td>\n",
       "      <td>0</td>\n",
       "    </tr>\n",
       "    <tr>\n",
       "      <th>1</th>\n",
       "      <td>7</td>\n",
       "      <td>1.0</td>\n",
       "      <td>True</td>\n",
       "      <td>93.0</td>\n",
       "      <td>3.0</td>\n",
       "      <td>3.0</td>\n",
       "      <td>0</td>\n",
       "      <td>0</td>\n",
       "      <td>1</td>\n",
       "      <td>0</td>\n",
       "      <td>...</td>\n",
       "      <td>0</td>\n",
       "      <td>1</td>\n",
       "      <td>0</td>\n",
       "      <td>0</td>\n",
       "      <td>1</td>\n",
       "      <td>0</td>\n",
       "      <td>0</td>\n",
       "      <td>0</td>\n",
       "      <td>1</td>\n",
       "      <td>0</td>\n",
       "    </tr>\n",
       "    <tr>\n",
       "      <th>2</th>\n",
       "      <td>5</td>\n",
       "      <td>1.0</td>\n",
       "      <td>True</td>\n",
       "      <td>92.0</td>\n",
       "      <td>1.0</td>\n",
       "      <td>3.0</td>\n",
       "      <td>0</td>\n",
       "      <td>0</td>\n",
       "      <td>1</td>\n",
       "      <td>0</td>\n",
       "      <td>...</td>\n",
       "      <td>0</td>\n",
       "      <td>1</td>\n",
       "      <td>0</td>\n",
       "      <td>1</td>\n",
       "      <td>0</td>\n",
       "      <td>0</td>\n",
       "      <td>0</td>\n",
       "      <td>0</td>\n",
       "      <td>1</td>\n",
       "      <td>0</td>\n",
       "    </tr>\n",
       "    <tr>\n",
       "      <th>3</th>\n",
       "      <td>4</td>\n",
       "      <td>1.0</td>\n",
       "      <td>True</td>\n",
       "      <td>96.0</td>\n",
       "      <td>2.0</td>\n",
       "      <td>2.0</td>\n",
       "      <td>0</td>\n",
       "      <td>0</td>\n",
       "      <td>1</td>\n",
       "      <td>0</td>\n",
       "      <td>...</td>\n",
       "      <td>0</td>\n",
       "      <td>1</td>\n",
       "      <td>1</td>\n",
       "      <td>0</td>\n",
       "      <td>0</td>\n",
       "      <td>0</td>\n",
       "      <td>0</td>\n",
       "      <td>0</td>\n",
       "      <td>0</td>\n",
       "      <td>1</td>\n",
       "    </tr>\n",
       "    <tr>\n",
       "      <th>4</th>\n",
       "      <td>2</td>\n",
       "      <td>1.0</td>\n",
       "      <td>True</td>\n",
       "      <td>40.0</td>\n",
       "      <td>0.0</td>\n",
       "      <td>1.0</td>\n",
       "      <td>0</td>\n",
       "      <td>0</td>\n",
       "      <td>1</td>\n",
       "      <td>0</td>\n",
       "      <td>...</td>\n",
       "      <td>0</td>\n",
       "      <td>1</td>\n",
       "      <td>0</td>\n",
       "      <td>1</td>\n",
       "      <td>0</td>\n",
       "      <td>0</td>\n",
       "      <td>1</td>\n",
       "      <td>0</td>\n",
       "      <td>0</td>\n",
       "      <td>0</td>\n",
       "    </tr>\n",
       "  </tbody>\n",
       "</table>\n",
       "<p>5 rows × 22 columns</p>\n",
       "</div>"
      ],
      "text/plain": [
       "   accommodates  bathrooms  cleaning_fee  review_scores_rating  bedrooms  \\\n",
       "0             3        1.0          True                 100.0       1.0   \n",
       "1             7        1.0          True                  93.0       3.0   \n",
       "2             5        1.0          True                  92.0       1.0   \n",
       "3             4        1.0          True                  96.0       2.0   \n",
       "4             2        1.0          True                  40.0       0.0   \n",
       "\n",
       "   beds  property_type_Condominium  property_type_Dorm  \\\n",
       "0   1.0                          0                   0   \n",
       "1   3.0                          0                   0   \n",
       "2   3.0                          0                   0   \n",
       "3   2.0                          0                   0   \n",
       "4   1.0                          0                   0   \n",
       "\n",
       "   room_type_Entire home/apt  room_type_Private room  ...  bed_type_Futon  \\\n",
       "0                          1                       0  ...               0   \n",
       "1                          1                       0  ...               0   \n",
       "2                          1                       0  ...               0   \n",
       "3                          1                       0  ...               0   \n",
       "4                          1                       0  ...               0   \n",
       "\n",
       "   bed_type_Real Bed  cancellation_policy_flexible  \\\n",
       "0                  1                             0   \n",
       "1                  1                             0   \n",
       "2                  1                             0   \n",
       "3                  1                             1   \n",
       "4                  1                             0   \n",
       "\n",
       "   cancellation_policy_moderate  cancellation_policy_strict  city_Chicago  \\\n",
       "0                             0                           1             0   \n",
       "1                             0                           1             0   \n",
       "2                             1                           0             0   \n",
       "3                             0                           0             0   \n",
       "4                             1                           0             0   \n",
       "\n",
       "   city_DC  city_LA  city_NYC  city_SF  \n",
       "0        0        0         1        0  \n",
       "1        0        0         1        0  \n",
       "2        0        0         1        0  \n",
       "3        0        0         0        1  \n",
       "4        1        0         0        0  \n",
       "\n",
       "[5 rows x 22 columns]"
      ]
     },
     "execution_count": 23,
     "metadata": {},
     "output_type": "execute_result"
    }
   ],
   "source": [
    "X.head()"
   ]
  },
  {
   "cell_type": "code",
   "execution_count": 24,
   "metadata": {},
   "outputs": [],
   "source": [
    "# Split data into train and test sets and set the seed by repeatability\n",
    "seed = 7\n",
    "test_size = 0.33"
   ]
  },
  {
   "cell_type": "markdown",
   "metadata": {},
   "source": [
    "\n",
    "I will create the 'Model' class in which it will be faster for us to adjust and make the prediction for different models.\n",
    "\n",
    "We will have the option to chooise the model and make its adjustment or adjust by gridsearchcv with its corresponding parameters."
   ]
  },
  {
   "cell_type": "code",
   "execution_count": 25,
   "metadata": {},
   "outputs": [],
   "source": [
    "class Model:\n",
    "  def __init__(self, model):\n",
    "    self.model = model\n",
    "    self.X_train = None\n",
    "    self.y_train = None\n",
    "    self.X_test = None\n",
    "    self.y_test = None\n",
    "    self.y_pred_train = None\n",
    "    self.y_pred_test = None\n",
    "    self.grid_model = None\n",
    "    self.test_score = None\n",
    "    self.train_score_log = None\n",
    "    self.test_score_log = None\n",
    "    self.fit_model = None\n",
    "    self.metric_score = None\n",
    "\n",
    "  def data_split(self, X, y, test_size, seed=2021):\n",
    "    \"\"\"Split data\"\"\"\n",
    "    self.X_train, self.X_test, self.y_train, self.y_test = train_test_split(X, y, test_size=test_size, random_state=seed)\n",
    "\n",
    "  def yhat_predict(self):\n",
    "    \"\"\"Predict the yhat\"\"\"\n",
    "    self.yhat_train = self.fit_model.predict(self.X_train)\n",
    "    self.yhat_test = self.fit_model.predict(self.X_test)\n",
    "\n",
    "  #def error_calc(self, metric):\n",
    "  #  self.metric_score = metric\n",
    "\n",
    "  def model_gridsearchcv(self, grid, X, y, test_size):\n",
    "    self.data_split(X, y, test_size)\n",
    "    self.model = GridSearchCV(estimator=self.model, **grid)\n",
    "    self.fit_model = self.model.fit(self.X_train, self.y_train)\n",
    "\n",
    "  def model_fit(self, X, y, test_size, seed):\n",
    "    self.data_split(X, y, test_size, seed)\n",
    "    self.fit_model = self.model.fit(self.X_train, self.y_train)\n",
    "\n",
    "  def write_model(self, path):\n",
    "    \"\"\"Predict the yhat\"\"\"\n",
    "    joblib.dump(self.fit_model, path)"
   ]
  },
  {
   "cell_type": "markdown",
   "metadata": {},
   "source": [
    "## Baseline LinearRegression"
   ]
  },
  {
   "cell_type": "markdown",
   "metadata": {},
   "source": [
    "We need a baseline to know if each selected model really improves the prediction or not.\n",
    "\n",
    "For this task we will resort to the basic but powerful linear regression."
   ]
  },
  {
   "cell_type": "code",
   "execution_count": 26,
   "metadata": {},
   "outputs": [],
   "source": [
    "linear_reg = Model(LinearRegression())\n",
    "linear_reg.model_fit(X, y, test_size, seed=seed)\n",
    "linear_reg.yhat_predict()"
   ]
  },
  {
   "cell_type": "code",
   "execution_count": 27,
   "metadata": {},
   "outputs": [
    {
     "name": "stdout",
     "output_type": "stream",
     "text": [
      "The RMSE for rmse_linear_reg is: 0.4758057163838125\n"
     ]
    }
   ],
   "source": [
    "rmse_linear_reg = mean_squared_error(linear_reg.y_test, linear_reg.yhat_test, squared=False)\n",
    "\n",
    "print(f\"The RMSE for rmse_linear_reg is: {rmse_linear_reg}\")"
   ]
  },
  {
   "cell_type": "markdown",
   "metadata": {},
   "source": [
    "Ok, once we have established our base line, it is time to apply GridSearchCV to iterate through different options."
   ]
  },
  {
   "cell_type": "markdown",
   "metadata": {},
   "source": [
    "## XGBRegressor model"
   ]
  },
  {
   "cell_type": "code",
   "execution_count": 28,
   "metadata": {},
   "outputs": [
    {
     "name": "stdout",
     "output_type": "stream",
     "text": [
      "Fitting 5 folds for each of 1 candidates, totalling 5 fits\n"
     ]
    }
   ],
   "source": [
    "grid = { \"param_grid\":{'max_depth': [ 3, 6,10],\n",
    "                       'learning_rate': [0.01, 0.05, 0.1, .3, .5],\n",
    "                       'n_estimators': [100, 500, 1000],\n",
    "                       'colsample_bytree': [ 0.7, .5]},\n",
    "        'scoring':'neg_mean_squared_error',\n",
    "        'verbose':6,\n",
    "        'n_jobs':-1\n",
    "        }\n",
    "        \n",
    "xgb_reg = Model(XGBRegressor(seed = 20))\n",
    "xgb_reg.model_gridsearchcv(grid, X, y, test_size = 0.33)\n",
    "xgb_reg.yhat_predict()"
   ]
  },
  {
   "cell_type": "code",
   "execution_count": 29,
   "metadata": {},
   "outputs": [
    {
     "data": {
      "text/plain": [
       "{'colsample_bytree': 0.5,\n",
       " 'learning_rate': 0.01,\n",
       " 'max_depth': 6,\n",
       " 'n_estimators': 1000}"
      ]
     },
     "execution_count": 29,
     "metadata": {},
     "output_type": "execute_result"
    }
   ],
   "source": [
    "xgb_reg.model.best_params_"
   ]
  },
  {
   "cell_type": "code",
   "execution_count": 30,
   "metadata": {},
   "outputs": [
    {
     "name": "stdout",
     "output_type": "stream",
     "text": [
      "The RMSE for xgb_reg is: 0.45378368048713524\n"
     ]
    }
   ],
   "source": [
    "rmse_xgb_reg = mean_squared_error(xgb_reg.y_test, xgb_reg.yhat_test, squared=False)\n",
    "\n",
    "print(f\"The RMSE for xgb_reg is: {rmse_xgb_reg}\")"
   ]
  },
  {
   "cell_type": "markdown",
   "metadata": {},
   "source": [
    "## Lasso model"
   ]
  },
  {
   "cell_type": "code",
   "execution_count": 31,
   "metadata": {},
   "outputs": [
    {
     "name": "stdout",
     "output_type": "stream",
     "text": [
      "Fitting 5 folds for each of 5 candidates, totalling 25 fits\n"
     ]
    }
   ],
   "source": [
    "grid = { \"param_grid\":{'alpha':[0.02, 0.024, 0.025, 0.026, 0.03]},\n",
    "        'scoring':'neg_mean_squared_error',\n",
    "        'verbose':6,\n",
    "        'n_jobs':-1\n",
    "        }\n",
    "\n",
    "lasso = Model(Lasso())\n",
    "lasso.model_gridsearchcv(grid, X, y, test_size = 0.33)\n",
    "lasso.yhat_predict()\n"
   ]
  },
  {
   "cell_type": "code",
   "execution_count": 32,
   "metadata": {},
   "outputs": [
    {
     "data": {
      "text/plain": [
       "{'alpha': 0.02}"
      ]
     },
     "execution_count": 32,
     "metadata": {},
     "output_type": "execute_result"
    }
   ],
   "source": [
    "lasso.model.best_params_"
   ]
  },
  {
   "cell_type": "code",
   "execution_count": 33,
   "metadata": {},
   "outputs": [
    {
     "name": "stdout",
     "output_type": "stream",
     "text": [
      "The RMSE for rmse_lasso is: 0.5010996440520167\n"
     ]
    }
   ],
   "source": [
    "rmse_lasso = mean_squared_error(lasso.y_test, lasso.yhat_test, squared=False)\n",
    "\n",
    "print(f\"The RMSE for rmse_lasso is: {rmse_lasso}\")"
   ]
  },
  {
   "cell_type": "markdown",
   "metadata": {},
   "source": [
    "## MLPRegressor Model"
   ]
  },
  {
   "cell_type": "code",
   "execution_count": 34,
   "metadata": {},
   "outputs": [
    {
     "name": "stdout",
     "output_type": "stream",
     "text": [
      "Fitting 5 folds for each of 1 candidates, totalling 5 fits\n"
     ]
    }
   ],
   "source": [
    "\n",
    "grid = { \"param_grid\":{'activation': ['relu', 'tanh', 'logistic', 'identity'],\n",
    "                       'hidden_layer_sizes':[6,6,6],\n",
    "                       'solver': ['adam', 'lbfgs'],\n",
    "                       'learning_rate' : ['constant', 'adaptive', 'invscaling']\n",
    "         },\n",
    "        'scoring':'neg_mean_squared_error',\n",
    "        'verbose':6,\n",
    "        'n_jobs':-1\n",
    "        }\n",
    "        \n",
    "mlpregre = Model(MLPRegressor(random_state=1, max_iter=500))\n",
    "mlpregre.model_gridsearchcv(grid, X, y, test_size = 0.33)\n",
    "mlpregre.yhat_predict()\n"
   ]
  },
  {
   "cell_type": "code",
   "execution_count": 35,
   "metadata": {},
   "outputs": [
    {
     "data": {
      "text/plain": [
       "{'activation': 'logistic',\n",
       " 'hidden_layer_sizes': 6,\n",
       " 'learning_rate': 'constant',\n",
       " 'solver': 'lbfgs'}"
      ]
     },
     "execution_count": 35,
     "metadata": {},
     "output_type": "execute_result"
    }
   ],
   "source": [
    "mlpregre.model.best_params_\n"
   ]
  },
  {
   "cell_type": "code",
   "execution_count": 36,
   "metadata": {},
   "outputs": [
    {
     "name": "stdout",
     "output_type": "stream",
     "text": [
      "The RMSE for rmse_mlpregre is: 0.4784236106338095\n"
     ]
    }
   ],
   "source": [
    "rmse_mlpregre = mean_squared_error(mlpregre.y_test, mlpregre.yhat_test, squared=False)\n",
    "\n",
    "print(f\"The RMSE for rmse_mlpregre is: {rmse_mlpregre}\")"
   ]
  },
  {
   "cell_type": "markdown",
   "metadata": {},
   "source": [
    "# Model vs Model"
   ]
  },
  {
   "cell_type": "code",
   "execution_count": 37,
   "metadata": {},
   "outputs": [
    {
     "data": {
      "text/html": [
       "<div>\n",
       "<style scoped>\n",
       "    .dataframe tbody tr th:only-of-type {\n",
       "        vertical-align: middle;\n",
       "    }\n",
       "\n",
       "    .dataframe tbody tr th {\n",
       "        vertical-align: top;\n",
       "    }\n",
       "\n",
       "    .dataframe thead th {\n",
       "        text-align: right;\n",
       "    }\n",
       "</style>\n",
       "<table border=\"1\" class=\"dataframe\">\n",
       "  <thead>\n",
       "    <tr style=\"text-align: right;\">\n",
       "      <th></th>\n",
       "      <th>Model</th>\n",
       "      <th>RMSE</th>\n",
       "    </tr>\n",
       "  </thead>\n",
       "  <tbody>\n",
       "    <tr>\n",
       "      <th>1</th>\n",
       "      <td>xgb_reg</td>\n",
       "      <td>0.453784</td>\n",
       "    </tr>\n",
       "    <tr>\n",
       "      <th>0</th>\n",
       "      <td>linear_reg</td>\n",
       "      <td>0.475806</td>\n",
       "    </tr>\n",
       "    <tr>\n",
       "      <th>3</th>\n",
       "      <td>mlpregre</td>\n",
       "      <td>0.478424</td>\n",
       "    </tr>\n",
       "    <tr>\n",
       "      <th>2</th>\n",
       "      <td>lasso</td>\n",
       "      <td>0.501100</td>\n",
       "    </tr>\n",
       "  </tbody>\n",
       "</table>\n",
       "</div>"
      ],
      "text/plain": [
       "        Model      RMSE\n",
       "1     xgb_reg  0.453784\n",
       "0  linear_reg  0.475806\n",
       "3    mlpregre  0.478424\n",
       "2       lasso  0.501100"
      ]
     },
     "execution_count": 37,
     "metadata": {},
     "output_type": "execute_result"
    }
   ],
   "source": [
    "df = pd.DataFrame(data={'Model': ['linear_reg', 'xgb_reg', 'lasso', 'mlpregre'], \n",
    "                        'RMSE': [rmse_linear_reg, rmse_xgb_reg, rmse_lasso, rmse_mlpregre]})\n",
    "\n",
    "df.sort_values('RMSE')"
   ]
  },
  {
   "cell_type": "markdown",
   "metadata": {},
   "source": [
    "Having a better RMSE XGBRegressor is the selected model.\n",
    "\n",
    "Perhaps the difference between each model is not very wide, however, as our objective variable is on a logarithmic scale, each small point is translated into points of magnitude."
   ]
  },
  {
   "cell_type": "code",
   "execution_count": 38,
   "metadata": {},
   "outputs": [],
   "source": [
    "# Write model \n",
    "xgb_reg.write_model('../xgboost_final_model.pkl')"
   ]
  },
  {
   "cell_type": "markdown",
   "metadata": {},
   "source": [
    "# Test data predict\n",
    "\n",
    "Now is time to predict the test data"
   ]
  },
  {
   "cell_type": "code",
   "execution_count": 39,
   "metadata": {},
   "outputs": [
    {
     "data": {
      "text/plain": [
       "(25458, 28)"
      ]
     },
     "execution_count": 39,
     "metadata": {},
     "output_type": "execute_result"
    }
   ],
   "source": [
    "test_data_raw.shape"
   ]
  },
  {
   "cell_type": "code",
   "execution_count": 40,
   "metadata": {},
   "outputs": [],
   "source": [
    "X_clean_test = CleanData(test_data_raw)\n",
    "X_clean_test.clean(columns_drop=columns_drop,\n",
    "              columns_fill_na_median=columns_fill_na_median, \n",
    "              columns_fill_na_mean=columns_fill_na_mean,\n",
    "              columns_fill_na=columns_fill_na,\n",
    "              columns_replace_str_values=columns_replace_str_values,\n",
    "              columns_to_boolean=columns_to_boolean,\n",
    "              columns_change_type=columns_change_type\n",
    "              )\n",
    "\n",
    "\n",
    "\n",
    "X_test = X_clean_test.X"
   ]
  },
  {
   "cell_type": "markdown",
   "metadata": {},
   "source": [
    "## Sanity check"
   ]
  },
  {
   "cell_type": "code",
   "execution_count": 41,
   "metadata": {},
   "outputs": [
    {
     "data": {
      "text/plain": [
       "accommodates                           0\n",
       "bathrooms                              0\n",
       "cleaning_fee                           0\n",
       "host_identity_verified                 0\n",
       "host_response_rate                     0\n",
       "instant_bookable                       0\n",
       "number_of_reviews                      0\n",
       "review_scores_rating                   0\n",
       "bedrooms                               0\n",
       "beds                                   0\n",
       "property_type_Apartment                0\n",
       "property_type_Bed & Breakfast          0\n",
       "property_type_Boat                     0\n",
       "property_type_Boutique hotel           0\n",
       "property_type_Bungalow                 0\n",
       "property_type_Cabin                    0\n",
       "property_type_Camper/RV                0\n",
       "property_type_Castle                   0\n",
       "property_type_Cave                     0\n",
       "property_type_Chalet                   0\n",
       "property_type_Condominium              0\n",
       "property_type_Dorm                     0\n",
       "property_type_Earth House              0\n",
       "property_type_Guest suite              0\n",
       "property_type_Guesthouse               0\n",
       "property_type_Hostel                   0\n",
       "property_type_House                    0\n",
       "property_type_In-law                   0\n",
       "property_type_Loft                     0\n",
       "property_type_Other                    0\n",
       "property_type_Serviced apartment       0\n",
       "property_type_Tent                     0\n",
       "property_type_Timeshare                0\n",
       "property_type_Tipi                     0\n",
       "property_type_Townhouse                0\n",
       "property_type_Train                    0\n",
       "property_type_Treehouse                0\n",
       "property_type_Vacation home            0\n",
       "property_type_Villa                    0\n",
       "property_type_Yurt                     0\n",
       "room_type_Entire home/apt              0\n",
       "room_type_Private room                 0\n",
       "room_type_Shared room                  0\n",
       "bed_type_Airbed                        0\n",
       "bed_type_Couch                         0\n",
       "bed_type_Futon                         0\n",
       "bed_type_Pull-out Sofa                 0\n",
       "bed_type_Real Bed                      0\n",
       "cancellation_policy_flexible           0\n",
       "cancellation_policy_long_term          0\n",
       "cancellation_policy_moderate           0\n",
       "cancellation_policy_strict             0\n",
       "cancellation_policy_super_strict_30    0\n",
       "cancellation_policy_super_strict_60    0\n",
       "city_Boston                            0\n",
       "city_Chicago                           0\n",
       "city_DC                                0\n",
       "city_LA                                0\n",
       "city_NYC                               0\n",
       "city_SF                                0\n",
       "dtype: int64"
      ]
     },
     "execution_count": 41,
     "metadata": {},
     "output_type": "execute_result"
    }
   ],
   "source": [
    "X_test.isna().sum()\n",
    "# No NAs"
   ]
  },
  {
   "cell_type": "markdown",
   "metadata": {},
   "source": [
    "## Predict Test data"
   ]
  },
  {
   "cell_type": "code",
   "execution_count": 42,
   "metadata": {},
   "outputs": [],
   "source": [
    "# All relevants variables except 'log_price'\n",
    "X_test = X_test[list(vars_relevant.index.values)[1:]]"
   ]
  },
  {
   "cell_type": "code",
   "execution_count": 43,
   "metadata": {},
   "outputs": [
    {
     "name": "stdout",
     "output_type": "stream",
     "text": [
      "Number rows: 25458 Number columns: 22\n"
     ]
    }
   ],
   "source": [
    "print(f\"Number rows: {X_test.shape[0]} Number columns: {X_test.shape[1]}\")"
   ]
  },
  {
   "cell_type": "code",
   "execution_count": 44,
   "metadata": {},
   "outputs": [
    {
     "data": {
      "text/plain": [
       "array([4.2683635, 4.9118485, 4.526333 , ..., 4.6689987, 5.0807567,\n",
       "       4.301012 ], dtype=float32)"
      ]
     },
     "execution_count": 44,
     "metadata": {},
     "output_type": "execute_result"
    }
   ],
   "source": [
    "xgb_reg.fit_model.predict(X_test)"
   ]
  },
  {
   "cell_type": "markdown",
   "metadata": {},
   "source": [
    "## Final result"
   ]
  },
  {
   "cell_type": "code",
   "execution_count": 45,
   "metadata": {},
   "outputs": [
    {
     "data": {
      "text/html": [
       "<div>\n",
       "<style scoped>\n",
       "    .dataframe tbody tr th:only-of-type {\n",
       "        vertical-align: middle;\n",
       "    }\n",
       "\n",
       "    .dataframe tbody tr th {\n",
       "        vertical-align: top;\n",
       "    }\n",
       "\n",
       "    .dataframe thead th {\n",
       "        text-align: right;\n",
       "    }\n",
       "</style>\n",
       "<table border=\"1\" class=\"dataframe\">\n",
       "  <thead>\n",
       "    <tr style=\"text-align: right;\">\n",
       "      <th></th>\n",
       "      <th>id</th>\n",
       "      <th>log_price</th>\n",
       "    </tr>\n",
       "  </thead>\n",
       "  <tbody>\n",
       "    <tr>\n",
       "      <th>0</th>\n",
       "      <td>3895911</td>\n",
       "      <td>4.268363</td>\n",
       "    </tr>\n",
       "    <tr>\n",
       "      <th>1</th>\n",
       "      <td>9710289</td>\n",
       "      <td>4.911849</td>\n",
       "    </tr>\n",
       "    <tr>\n",
       "      <th>2</th>\n",
       "      <td>9051635</td>\n",
       "      <td>4.526333</td>\n",
       "    </tr>\n",
       "    <tr>\n",
       "      <th>3</th>\n",
       "      <td>708374</td>\n",
       "      <td>4.433509</td>\n",
       "    </tr>\n",
       "    <tr>\n",
       "      <th>4</th>\n",
       "      <td>626296</td>\n",
       "      <td>5.029624</td>\n",
       "    </tr>\n",
       "    <tr>\n",
       "      <th>...</th>\n",
       "      <td>...</td>\n",
       "      <td>...</td>\n",
       "    </tr>\n",
       "    <tr>\n",
       "      <th>25453</th>\n",
       "      <td>13098256</td>\n",
       "      <td>5.786149</td>\n",
       "    </tr>\n",
       "    <tr>\n",
       "      <th>25454</th>\n",
       "      <td>13550830</td>\n",
       "      <td>4.238314</td>\n",
       "    </tr>\n",
       "    <tr>\n",
       "      <th>25455</th>\n",
       "      <td>13899483</td>\n",
       "      <td>4.668999</td>\n",
       "    </tr>\n",
       "    <tr>\n",
       "      <th>25456</th>\n",
       "      <td>9939029</td>\n",
       "      <td>5.080757</td>\n",
       "    </tr>\n",
       "    <tr>\n",
       "      <th>25457</th>\n",
       "      <td>12986510</td>\n",
       "      <td>4.301012</td>\n",
       "    </tr>\n",
       "  </tbody>\n",
       "</table>\n",
       "<p>25458 rows × 2 columns</p>\n",
       "</div>"
      ],
      "text/plain": [
       "             id  log_price\n",
       "0       3895911   4.268363\n",
       "1       9710289   4.911849\n",
       "2       9051635   4.526333\n",
       "3        708374   4.433509\n",
       "4        626296   5.029624\n",
       "...         ...        ...\n",
       "25453  13098256   5.786149\n",
       "25454  13550830   4.238314\n",
       "25455  13899483   4.668999\n",
       "25456   9939029   5.080757\n",
       "25457  12986510   4.301012\n",
       "\n",
       "[25458 rows x 2 columns]"
      ]
     },
     "execution_count": 45,
     "metadata": {},
     "output_type": "execute_result"
    }
   ],
   "source": [
    "test_log_price = pd.DataFrame(data={'id': test_data_raw['id'], \n",
    "                                    'log_price': xgb_reg.model.predict(X_test)})\n",
    "\n",
    "test_log_price"
   ]
  },
  {
   "cell_type": "code",
   "execution_count": 46,
   "metadata": {},
   "outputs": [],
   "source": [
    "test_log_price.to_csv(\"../submission.csv\", index=False)"
   ]
  }
 ],
 "metadata": {
  "interpreter": {
   "hash": "200e5dc72c3277bc8decee4911eaff1fc1d4b9eac4ea84e4bd115fd843cc3b7f"
  },
  "kernelspec": {
   "display_name": "Python 3.7.6 64-bit ('venv': venv)",
   "name": "python3"
  },
  "language_info": {
   "codemirror_mode": {
    "name": "ipython",
    "version": 3
   },
   "file_extension": ".py",
   "mimetype": "text/x-python",
   "name": "python",
   "nbconvert_exporter": "python",
   "pygments_lexer": "ipython3",
   "version": "3.10.0"
  },
  "orig_nbformat": 4
 },
 "nbformat": 4,
 "nbformat_minor": 2
}
